{
  "cells": [
    {
      "cell_type": "markdown",
      "id": "ba9b7377",
      "metadata": {
        "id": "ba9b7377"
      },
      "source": [
        "# class"
      ]
    },
    {
      "cell_type": "code",
      "execution_count": null,
      "id": "daafc716",
      "metadata": {
        "id": "daafc716",
        "outputId": "5dffa639-bcd5-4075-e3a3-6c29befd5fbd"
      },
      "outputs": [
        {
          "data": {
            "text/plain": [
              "'\\nclass example\\n\\n1. car class\\n2. laptop\\n3. \\n'"
            ]
          },
          "execution_count": 2,
          "metadata": {},
          "output_type": "execute_result"
        }
      ],
      "source": [
        "'''\n",
        "class example\n",
        "\n",
        "1. car class\n",
        "2. laptop\n",
        "3.\n",
        "'''"
      ]
    },
    {
      "cell_type": "code",
      "execution_count": null,
      "id": "b77318c6",
      "metadata": {
        "id": "b77318c6"
      },
      "outputs": [],
      "source": [
        "class Emp:\n",
        "    pass"
      ]
    },
    {
      "cell_type": "code",
      "execution_count": null,
      "id": "02c0fd58",
      "metadata": {
        "id": "02c0fd58"
      },
      "outputs": [],
      "source": [
        "e=Emp()"
      ]
    },
    {
      "cell_type": "code",
      "execution_count": null,
      "id": "7b7b86ff",
      "metadata": {
        "id": "7b7b86ff",
        "outputId": "af1c2010-d1e1-4fc8-fe79-69d282b21a28"
      },
      "outputs": [
        {
          "name": "stdout",
          "output_type": "stream",
          "text": [
            "<class '__main__.Emp'>\n"
          ]
        }
      ],
      "source": [
        "print(type(e))"
      ]
    },
    {
      "cell_type": "raw",
      "id": "a60c4149",
      "metadata": {
        "id": "a60c4149"
      },
      "source": [
        "__main__ is the name of the environment where top-level code is run. “Top-level code” is the first user-specified Python module that starts running. It’s “top-level” because it imports all other modules that the program needs. Sometimes “top-level code” is called an entry point to the application."
      ]
    },
    {
      "cell_type": "code",
      "execution_count": null,
      "id": "65a12d9f",
      "metadata": {
        "id": "65a12d9f",
        "outputId": "6e89fc89-10af-403e-de34-deac51b96f32"
      },
      "outputs": [
        {
          "name": "stdout",
          "output_type": "stream",
          "text": [
            "<__main__.Emp object at 0x00000259E0F07EB0>\n"
          ]
        }
      ],
      "source": [
        "print(e)"
      ]
    },
    {
      "cell_type": "code",
      "execution_count": null,
      "id": "3caaa61e",
      "metadata": {
        "id": "3caaa61e",
        "outputId": "6285516a-7a22-434c-b809-7a41f393b26d"
      },
      "outputs": [
        {
          "data": {
            "text/plain": [
              "2585049202352"
            ]
          },
          "execution_count": 22,
          "metadata": {},
          "output_type": "execute_result"
        }
      ],
      "source": [
        "id(e)"
      ]
    },
    {
      "cell_type": "raw",
      "id": "92125228",
      "metadata": {
        "id": "92125228"
      },
      "source": [
        "In Python , a class can have 3 types of variables:\n",
        "\n",
        "Instance Variables: Created per instance basis\n",
        "\n",
        "Local Variables: Created locally inside a method and destroyed when the method execution is over\n",
        "\n",
        "Class Variables: Created inside a class and shared by every object of that class. Sometimes also called as static variables"
      ]
    },
    {
      "cell_type": "code",
      "execution_count": null,
      "id": "69a7c66c",
      "metadata": {
        "id": "69a7c66c"
      },
      "outputs": [],
      "source": [
        "class Robot:\n",
        "\n",
        "\n",
        "    def introduce_self(self):\n",
        "        print(\"My name is \" + self.name) # this in Java"
      ]
    },
    {
      "cell_type": "code",
      "execution_count": null,
      "id": "d94be36c",
      "metadata": {
        "id": "d94be36c"
      },
      "outputs": [],
      "source": [
        "r1 = Robot()\n",
        "r1.name = \"Tom\"\n",
        "r1.color = \"red\"\n",
        "r1.weight = 30"
      ]
    },
    {
      "cell_type": "code",
      "execution_count": null,
      "id": "7e3a33de",
      "metadata": {
        "id": "7e3a33de",
        "outputId": "9162ed31-cd6c-4d4f-ab7e-7f54a10faf29"
      },
      "outputs": [
        {
          "name": "stdout",
          "output_type": "stream",
          "text": [
            "My name is Tom\n"
          ]
        }
      ],
      "source": [
        "r1.introduce_self()"
      ]
    },
    {
      "cell_type": "code",
      "execution_count": null,
      "id": "4361849f",
      "metadata": {
        "id": "4361849f"
      },
      "outputs": [],
      "source": [
        "r2 = Robot()\n",
        "r2.name = \"Jerry\"\n",
        "r2.color = \"blue\"\n",
        "r2.weight = 40"
      ]
    },
    {
      "cell_type": "code",
      "execution_count": null,
      "id": "ef2ee3bc",
      "metadata": {
        "id": "ef2ee3bc",
        "outputId": "e1ebf4dc-72d9-4b0a-9bb8-0ef7e5411ae3"
      },
      "outputs": [
        {
          "name": "stdout",
          "output_type": "stream",
          "text": [
            "My name is Jerry\n"
          ]
        }
      ],
      "source": [
        "r2.introduce_self()"
      ]
    },
    {
      "cell_type": "markdown",
      "id": "36d59b7a",
      "metadata": {
        "id": "36d59b7a"
      },
      "source": [
        "![image.png](attachment:image.png)"
      ]
    },
    {
      "cell_type": "code",
      "execution_count": null,
      "id": "8b2ab188",
      "metadata": {
        "id": "8b2ab188"
      },
      "outputs": [],
      "source": [
        "class Robot:\n",
        "    def __init__(self, name, color, weight):\n",
        "        self.name = name\n",
        "        self.color = color\n",
        "        self.weight = weight\n",
        "\n",
        "    def introduce_self(self):\n",
        "        print(\"My name is \" + self.name) # this in Java"
      ]
    },
    {
      "cell_type": "code",
      "execution_count": null,
      "id": "9027aa5c",
      "metadata": {
        "id": "9027aa5c"
      },
      "outputs": [],
      "source": [
        "r1 = Robot(\"Tom\", \"red\", 30)\n",
        "r2 = Robot(\"Jerry\", \"blue\", 40)"
      ]
    },
    {
      "cell_type": "raw",
      "id": "21b9859a",
      "metadata": {
        "id": "21b9859a"
      },
      "source": [
        "Use the __init__() method to initialize the object’s attributes.\n",
        "The __init__() doesn’t create an object but is automatically called after the object is created."
      ]
    },
    {
      "cell_type": "code",
      "execution_count": null,
      "id": "877149dd",
      "metadata": {
        "id": "877149dd",
        "outputId": "15691f18-3cb8-4354-a209-a03d49af6411"
      },
      "outputs": [
        {
          "data": {
            "text/plain": [
              "['__class__',\n",
              " '__delattr__',\n",
              " '__dict__',\n",
              " '__dir__',\n",
              " '__doc__',\n",
              " '__eq__',\n",
              " '__format__',\n",
              " '__ge__',\n",
              " '__getattribute__',\n",
              " '__gt__',\n",
              " '__hash__',\n",
              " '__init__',\n",
              " '__init_subclass__',\n",
              " '__le__',\n",
              " '__lt__',\n",
              " '__module__',\n",
              " '__ne__',\n",
              " '__new__',\n",
              " '__reduce__',\n",
              " '__reduce_ex__',\n",
              " '__repr__',\n",
              " '__setattr__',\n",
              " '__sizeof__',\n",
              " '__str__',\n",
              " '__subclasshook__',\n",
              " '__weakref__',\n",
              " 'color',\n",
              " 'introduce_self',\n",
              " 'name',\n",
              " 'weight']"
            ]
          },
          "execution_count": 15,
          "metadata": {},
          "output_type": "execute_result"
        }
      ],
      "source": [
        "dir(r1)"
      ]
    },
    {
      "cell_type": "code",
      "execution_count": null,
      "id": "fa16391a",
      "metadata": {
        "id": "fa16391a",
        "outputId": "3ac517c0-56ad-4ea9-a82e-b8a3403a440f"
      },
      "outputs": [
        {
          "name": "stdout",
          "output_type": "stream",
          "text": [
            "My name is Tom\n",
            "My name is Jerry\n"
          ]
        }
      ],
      "source": [
        "r1.introduce_self()\n",
        "r2.introduce_self()"
      ]
    },
    {
      "cell_type": "code",
      "execution_count": null,
      "id": "c9dc43d8",
      "metadata": {
        "id": "c9dc43d8"
      },
      "outputs": [],
      "source": [
        "class Person:\n",
        "    def __init__(self, name, sex, profession):\n",
        "        # data members (instance variables)\n",
        "        self.name = name\n",
        "        self.sex = sex\n",
        "        self.profession = profession\n",
        "\n",
        "    # Behavior (instance methods)\n",
        "    def show(self):\n",
        "        print('Name:', self.name, 'Sex:', self.sex, 'Profession:', self.profession)\n",
        "\n",
        "    # Behavior (instance methods)\n",
        "    def work(self):\n",
        "        print(self.name, 'working as a', self.profession)"
      ]
    },
    {
      "cell_type": "code",
      "execution_count": null,
      "id": "4f3a5f89",
      "metadata": {
        "id": "4f3a5f89"
      },
      "outputs": [],
      "source": [
        "jessa = Person('Jessa', 'Female', 'Software Engineer')"
      ]
    },
    {
      "cell_type": "code",
      "execution_count": null,
      "id": "65f98f98",
      "metadata": {
        "id": "65f98f98",
        "outputId": "a4f8c04b-ab6f-4c45-f62b-54e3698290e2"
      },
      "outputs": [
        {
          "name": "stdout",
          "output_type": "stream",
          "text": [
            "Name: Jessa Sex: Female Profession: Software Engineer\n"
          ]
        }
      ],
      "source": [
        "jessa.show()"
      ]
    },
    {
      "cell_type": "code",
      "execution_count": null,
      "id": "f1679cb9",
      "metadata": {
        "id": "f1679cb9",
        "outputId": "8ccdf59d-a7f0-41a8-bf8a-753b5e69f8fd"
      },
      "outputs": [
        {
          "name": "stdout",
          "output_type": "stream",
          "text": [
            "Jessa working as a Software Engineer\n"
          ]
        }
      ],
      "source": [
        "jessa.work()"
      ]
    },
    {
      "cell_type": "code",
      "execution_count": null,
      "id": "31845a26",
      "metadata": {
        "id": "31845a26",
        "outputId": "79d81838-56de-4653-ebf5-4e787ab62c8e"
      },
      "outputs": [
        {
          "name": "stdout",
          "output_type": "stream",
          "text": [
            "2585051326304\n",
            "2585051326304\n",
            "Age: 25 Name: Rahul Salary: 30000.0\n"
          ]
        }
      ],
      "source": [
        "class Emp:\n",
        "    def __init__(self):\n",
        "        print(id(self))\n",
        "        self.age=25\n",
        "        self.name=\"Rahul\"\n",
        "        self.salary=30000.0\n",
        "\n",
        "e=Emp()\n",
        "print(id(e))\n",
        "print(\"Age:\",e.age,\"Name:\",e.name,\"Salary:\",e.salary)"
      ]
    },
    {
      "cell_type": "code",
      "execution_count": null,
      "id": "b14bcd98",
      "metadata": {
        "id": "b14bcd98"
      },
      "outputs": [],
      "source": [
        "class Emp:\n",
        "    def __init__(self):\n",
        "        self.age=25\n",
        "        self.name=\"Rahul\"\n",
        "        self.salary=30000\n",
        "    def show(self):\n",
        "        print(self.age,self.name,self.salary)"
      ]
    },
    {
      "cell_type": "code",
      "execution_count": null,
      "id": "ba79e153",
      "metadata": {
        "id": "ba79e153"
      },
      "outputs": [],
      "source": [
        "e=Emp()"
      ]
    },
    {
      "cell_type": "code",
      "execution_count": null,
      "id": "e99d453a",
      "metadata": {
        "id": "e99d453a",
        "outputId": "52fb9d56-78c9-406c-bc26-b1eff707d2ca"
      },
      "outputs": [
        {
          "name": "stdout",
          "output_type": "stream",
          "text": [
            "25 Rahul 30000\n"
          ]
        }
      ],
      "source": [
        "e.show()"
      ]
    },
    {
      "cell_type": "code",
      "execution_count": null,
      "id": "0aa23ca4",
      "metadata": {
        "id": "0aa23ca4"
      },
      "outputs": [],
      "source": [
        "class Circle:\n",
        "    pi = 3.14159\n",
        "\n",
        "    def __init__(self, radius):\n",
        "        self.radius = radius\n",
        "\n",
        "    def area(self):\n",
        "        return self.pi * self.radius**2\n",
        "\n",
        "    def circumference(self):\n",
        "        return 2 * self.pi * self.radius\n"
      ]
    },
    {
      "cell_type": "code",
      "execution_count": null,
      "id": "8f03fcb9",
      "metadata": {
        "id": "8f03fcb9",
        "outputId": "b23836a9-a49d-4ab1-d48c-45e2e960415d"
      },
      "outputs": [
        {
          "name": "stdout",
          "output_type": "stream",
          "text": [
            "3.14159\n",
            "3.14159\n"
          ]
        }
      ],
      "source": [
        "c = Circle(10)\n",
        "print(c.pi)\n",
        "print(Circle.pi)\n",
        "#object_name.class_attribute\n",
        "#class_name.class_attribute"
      ]
    },
    {
      "cell_type": "code",
      "execution_count": null,
      "id": "6e30de54",
      "metadata": {
        "id": "6e30de54",
        "outputId": "1a258fa8-fc49-4821-db07-cc0edd652605"
      },
      "outputs": [
        {
          "data": {
            "text/plain": [
              "62.8318"
            ]
          },
          "execution_count": 43,
          "metadata": {},
          "output_type": "execute_result"
        }
      ],
      "source": [
        "c.circumference()"
      ]
    },
    {
      "cell_type": "code",
      "execution_count": null,
      "id": "c0e18aca",
      "metadata": {
        "id": "c0e18aca",
        "outputId": "53335e16-0b83-42db-cb0a-d0629093d1ad"
      },
      "outputs": [
        {
          "data": {
            "text/plain": [
              "314.159"
            ]
          },
          "execution_count": 46,
          "metadata": {},
          "output_type": "execute_result"
        }
      ],
      "source": [
        "c.area()"
      ]
    },
    {
      "cell_type": "code",
      "execution_count": null,
      "id": "cda84671",
      "metadata": {
        "id": "cda84671"
      },
      "outputs": [],
      "source": [
        "class BankAccount:\n",
        "    def __init__(self,account_number, name, balance):\n",
        "        self.account_number = account_number\n",
        "        self.name = name\n",
        "        self.balance = balance\n",
        "\n",
        "    def deposit(self,d_amount):\n",
        "        self.d_amount = d_amount\n",
        "        self.balance += self.d_amount\n",
        "        print(self.d_amount, ' is credited into your bank account')\n",
        "        print(f'your current balance is {self.balance}')\n",
        "\n",
        "    def withdraw(self,w_amount):\n",
        "        self.w_amount = w_amount\n",
        "        self.balance -= self.w_amount\n",
        "        print(self.w_amount, ' is debited into your bank account')\n",
        "        print(f'your current balance is {self.balance}')\n",
        "\n",
        "    def account_details(self):\n",
        "        print(f'Your name is {self.name}')\n",
        "\n",
        "        print(f'Your account number is {self.account_number}')\n",
        "        print(f'Your balance is {self.balance}')"
      ]
    }
  ],
  "metadata": {
    "colab": {
      "provenance": []
    },
    "kernelspec": {
      "display_name": "Python 3 (ipykernel)",
      "language": "python",
      "name": "python3"
    },
    "language_info": {
      "codemirror_mode": {
        "name": "ipython",
        "version": 3
      },
      "file_extension": ".py",
      "mimetype": "text/x-python",
      "name": "python",
      "nbconvert_exporter": "python",
      "pygments_lexer": "ipython3",
      "version": "3.9.12"
    }
  },
  "nbformat": 4,
  "nbformat_minor": 5
}
